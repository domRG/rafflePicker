{
  "nbformat": 4,
  "nbformat_minor": 0,
  "metadata": {
    "colab": {
      "name": "colab run rafflePicker.ipynb",
      "provenance": [],
      "authorship_tag": "ABX9TyMH+prvd0ufkfVXxHeyvGZA",
      "include_colab_link": true
    },
    "kernelspec": {
      "name": "python3",
      "display_name": "Python 3"
    },
    "language_info": {
      "name": "python"
    }
  },
  "cells": [
    {
      "cell_type": "markdown",
      "metadata": {
        "id": "view-in-github",
        "colab_type": "text"
      },
      "source": [
        "<a href=\"https://colab.research.google.com/github/domRG/rafflePicker/blob/main/colab_run_rafflePicker.ipynb\" target=\"_parent\"><img src=\"https://colab.research.google.com/assets/colab-badge.svg\" alt=\"Open In Colab\"/></a>"
      ]
    },
    {
      "cell_type": "markdown",
      "metadata": {
        "id": "9-w98YJnd122"
      },
      "source": [
        "# Google Colab running rafflePicker from https://github.com/domRG/rafflePicker\n",
        "\n",
        "## Instructions\n",
        "1. Select \"Runtime\" -> \"Run all\" to get started (Ctrl+F9)\n",
        "1. Wait for the program to be loaded and start\n",
        "1. Follow the instructions of the program, you may need to click the flashing cursor to show the text entry boxes (press enter to submit the text)\n",
        "1. Don't forget to click the text entry box and press enter one final time to stop the program (I know it's annoying, but this is left over from running the program in a different way)\n",
        "\n",
        "## Running again\n",
        "1. To run the program again, ensure the final step of the **Instructions** is completed\n",
        "1. Run the program again as normal (following **Instructions**) - there will be an error that says \"fatal: destination path...\" but this is just because the program is already loaded and can be ignored."
      ]
    },
    {
      "cell_type": "code",
      "metadata": {
        "id": "x2kmicouatWD"
      },
      "source": [
        "!git clone https://github.com/domRG/rafflePicker.git"
      ],
      "execution_count": null,
      "outputs": []
    },
    {
      "cell_type": "code",
      "metadata": {
        "id": "Dp_9EbPdbL9M"
      },
      "source": [
        "!python rafflePicker/main.py"
      ],
      "execution_count": null,
      "outputs": []
    }
  ]
}